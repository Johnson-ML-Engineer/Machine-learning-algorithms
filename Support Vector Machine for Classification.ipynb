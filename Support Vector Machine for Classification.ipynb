{
 "cells": [
  {
   "cell_type": "code",
   "execution_count": 1,
   "id": "115b8b51-e625-4d33-9923-e53f533cdb80",
   "metadata": {},
   "outputs": [],
   "source": [
    "import pandas as pd \n",
    "import numpy as np"
   ]
  },
  {
   "cell_type": "markdown",
   "id": "72ea8ec3-7043-40ca-a886-2858bb9a53ff",
   "metadata": {},
   "source": [
    "Equation of the Hyperplane:\n",
    "\n",
    "y = wx - b"
   ]
  },
  {
   "cell_type": "code",
   "execution_count": 1,
   "id": "f72c5340-e4db-4f26-aa8d-40991e3345df",
   "metadata": {},
   "outputs": [],
   "source": [
    "class SVMClassifier():\n",
    "    def __init__(self,learning_rate = 0.001, lambda_parameter = 0.01, no_of_iterations = 1000):\n",
    "        self.learning_rate = learning_rate\n",
    "        self.lambda_parameter = lambda_parameter\n",
    "        self.no_of_iterations = no_of_iterations\n",
    "\n",
    "    def fit(self,x,y):\n",
    "        self.x = x\n",
    "        self.y = y\n",
    "        self.w = np.zeros(x.shape[1])\n",
    "        self.b = 0\n",
    "        for _ in range(self.no_of_iterations):\n",
    "            self.update_weight()\n",
    "    def update_weight(self):\n",
    "        y_label  = np.where(self.y <=0 , -1,1)\n",
    "        for index,x_i in enumerate(self.x.values):\n",
    "            condition = y_label[index] * (np.dot(x_i,self.w) - self.b) >=1\n",
    "            if condition:\n",
    "                dw = 2 * self.lambda_parameter * self.w\n",
    "                db = 0\n",
    "            else:\n",
    "                dw = 2 * self.lambda_parameter * self.w -np.dot(x_i,y_label[index])\n",
    "                db = y_label[index]\n",
    "            self.w -= self.learning_rate * dw\n",
    "            self.b -= self.learning_rate * db\n",
    "\n",
    "    def predict(self,x):\n",
    "        output = np.dot(x,self.w) - self.b\n",
    "        predicted_label = np.sign(output)\n",
    "        y_hat = np.where(predicted_label <=-1 ,0,1)\n",
    "        return y_hat"
   ]
  },
  {
   "cell_type": "code",
   "execution_count": null,
   "id": "52405171-0f8b-4620-bb0d-bc3c016f4b7e",
   "metadata": {},
   "outputs": [],
   "source": []
  }
 ],
 "metadata": {
  "kernelspec": {
   "display_name": "venv1kernel",
   "language": "python",
   "name": "venv1kernel"
  },
  "language_info": {
   "codemirror_mode": {
    "name": "ipython",
    "version": 3
   },
   "file_extension": ".py",
   "mimetype": "text/x-python",
   "name": "python",
   "nbconvert_exporter": "python",
   "pygments_lexer": "ipython3",
   "version": "3.11.3"
  }
 },
 "nbformat": 4,
 "nbformat_minor": 5
}
